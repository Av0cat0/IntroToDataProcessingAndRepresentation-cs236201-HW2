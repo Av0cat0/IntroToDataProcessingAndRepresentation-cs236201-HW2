{
 "cells": [
  {
   "cell_type": "markdown",
   "source": [
    "# HW2\n",
    "\n",
    "By:\n",
    "1. Roni Roitbord (__313575599__)\n",
    "2. Lior Yaacov Ben Ezra (__209145101__)\n"
   ],
   "metadata": {
    "collapsed": false
   }
  },
  {
   "cell_type": "code",
   "execution_count": 5,
   "metadata": {
    "collapsed": true
   },
   "outputs": [],
   "source": [
    "import numpy as np\n",
    "import math\n",
    "import cv2\n",
    "#!pip install opencv-python"
   ]
  },
  {
   "cell_type": "markdown",
   "source": [
    "## 1. Numerical and Practical Bit Allocation for Two-Dimensional Signals"
   ],
   "metadata": {
    "collapsed": false
   }
  },
  {
   "cell_type": "code",
   "execution_count": null,
   "outputs": [],
   "source": [
    "nx = ny = 1000\n",
    "pi = math.pi\n",
    "A = 2500\n",
    "wx = 2\n",
    "wy = 7\n",
    "b = 8\n",
    "phi_digitized = np.zeros((ny,nx), dtype = np.float64)"
   ],
   "metadata": {
    "collapsed": false
   }
  },
  {
   "cell_type": "markdown",
   "source": [
    "#### a. Mathematically develop formulas for derivatives and integrals to calculate the value-range, the horizontal-derivative energy and the vertical-derivative energy."
   ],
   "metadata": {
    "collapsed": false
   }
  },
  {
   "cell_type": "code",
   "execution_count": null,
   "outputs": [],
   "source": [
    "def phi_x_y(x, y, A, wx, wy):\n",
    "    cos_term = 2 * pi * wx * x\n",
    "    sin_term = 2 * pi * wy * y\n",
    "    return A * math.cos(cos_term) * math.sin(sin_term)\n",
    "\n",
    "def horizontal_derivative_energy(x, y, A, wx, wy):\n",
    "    sin_term_1 = 2 * pi * wx * x\n",
    "    sin_term_2 = 2 * pi * wy * y\n",
    "    return -2 * A * pi * wx * math.sin(sin_term_1) * math.sin(sin_term_2)\n",
    "\n",
    "def vertical_derivative_energy(x, y, A, wx, wy):\n",
    "    cos_term_1 = 2 * pi * wx * x\n",
    "    cos_term_2 = 2 * pi * wy * y\n",
    "    return 2 * A * pi * wy * math.cos(cos_term_1) * math.cos(cos_term_2)\n",
    "\n",
    "def energy_calc(digitized_phi, n_x, n_y):\n",
    "    size = n_x * n_y\n",
    "    return np.sum((digitized_phi ** 2) / size)"
   ],
   "metadata": {
    "collapsed": false
   }
  },
  {
   "cell_type": "markdown",
   "source": [
    "#### b. Approximate the continuous-domain signal $φ(x,y)$ by a very high resolution digitalization. Present the signal as an image using the cv2.imshow function (use an appropriate gray-level scaling that suits the value of A)."
   ],
   "metadata": {
    "collapsed": false
   }
  },
  {
   "cell_type": "code",
   "execution_count": null,
   "outputs": [],
   "source": [
    "def sampling(phi_rep, function, nx, ny, A, wx, wy):\n",
    "    for i in range(ny):\n",
    "        for j in range(nx):\n",
    "            phi_rep[i][j]= function(j/(nx-1), i/(ny-1), A, wx, wy)\n",
    "    return phi_rep\n",
    "\n",
    "# Applies quantization on the image\n",
    "def apply_quantization(phi_rep, representation, bit):\n",
    "    for i in range(ny):\n",
    "        for j in range(nx):\n",
    "            phi_rep[i][j] = function(j / (nx - 1), i / (ny - 1), A, wx, wy)\n",
    "\n",
    "    delta = (representation.max() - representation.min())/(2 ** bit)\n",
    "    quantized_phi = representation.min() + (np.floor((representation - representation.min())/delta)+0.5)*delta\n",
    "    return quantized_phi\n",
    "\n",
    "phi_digitized = apply_quantization(sampling(phi_digitized, phi, nx, ny, A, wx, wy), b)\n",
    "_ = plt.imshow((phi_digitized+A)/2*A, cmap='gray', origin='lower')"
   ],
   "metadata": {
    "collapsed": false
   }
  }
 ],
 "metadata": {
  "kernelspec": {
   "display_name": "Python 3",
   "language": "python",
   "name": "python3"
  },
  "language_info": {
   "codemirror_mode": {
    "name": "ipython",
    "version": 2
   },
   "file_extension": ".py",
   "mimetype": "text/x-python",
   "name": "python",
   "nbconvert_exporter": "python",
   "pygments_lexer": "ipython2",
   "version": "2.7.6"
  }
 },
 "nbformat": 4,
 "nbformat_minor": 0
}
